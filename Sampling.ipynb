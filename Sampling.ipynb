{
  "cells": [
    {
      "cell_type": "markdown",
      "metadata": {},
      "source": [
        "# Sampling Assignment"
      ]
    },
    {
      "cell_type": "code",
      "execution_count": 47,
      "metadata": {
        "id": "tU72wM6rRrKm"
      },
      "outputs": [],
      "source": [
        "import numpy as np\n",
        "import pandas as pd\n",
        "import seaborn as sns\n",
        "import matplotlib.pyplot as plt\n",
        "\n",
        "from sklearn.model_selection import train_test_split\n",
        "from sklearn.ensemble import RandomForestClassifier\n",
        "from sklearn.linear_model import LogisticRegression\n",
        "from sklearn.naive_bayes import GaussianNB\n",
        "from sklearn.tree import DecisionTreeClassifier\n",
        "from sklearn.neighbors import KNeighborsClassifier\n",
        "from sklearn.metrics import accuracy_score\n",
        "from imblearn.over_sampling import RandomOverSampler\n",
        "from collections import Counter\n",
        "from sklearn.preprocessing import normalize\n",
        "\n",
        "from sklearn.ensemble import GradientBoostingClassifier\n",
        "from sklearn.svm import SVC\n",
        "from sklearn.neural_network import MLPClassifier\n",
        "from sklearn.ensemble import AdaBoostClassifier\n",
        "\n",
        "from sklearn.cluster import KMeans"
      ]
    },
    {
      "cell_type": "code",
      "execution_count": 48,
      "metadata": {
        "id": "cq4vIzM_SECy"
      },
      "outputs": [],
      "source": [
        "url = \"https://raw.githubusercontent.com/AnjulaMehto/Sampling_Assignment/main/Creditcard_data.csv\"\n",
        "df = pd.read_csv(url)"
      ]
    },
    {
      "cell_type": "code",
      "execution_count": 49,
      "metadata": {
        "colab": {
          "base_uri": "https://localhost:8080/",
          "height": 255
        },
        "id": "wUSl-vepR8tb",
        "outputId": "b287c42b-015b-4097-ea78-7aa66d3b51d7"
      },
      "outputs": [
        {
          "data": {
            "text/html": [
              "<div>\n",
              "<style scoped>\n",
              "    .dataframe tbody tr th:only-of-type {\n",
              "        vertical-align: middle;\n",
              "    }\n",
              "\n",
              "    .dataframe tbody tr th {\n",
              "        vertical-align: top;\n",
              "    }\n",
              "\n",
              "    .dataframe thead th {\n",
              "        text-align: right;\n",
              "    }\n",
              "</style>\n",
              "<table border=\"1\" class=\"dataframe\">\n",
              "  <thead>\n",
              "    <tr style=\"text-align: right;\">\n",
              "      <th></th>\n",
              "      <th>Time</th>\n",
              "      <th>V1</th>\n",
              "      <th>V2</th>\n",
              "      <th>V3</th>\n",
              "      <th>V4</th>\n",
              "      <th>V5</th>\n",
              "      <th>V6</th>\n",
              "      <th>V7</th>\n",
              "      <th>V8</th>\n",
              "      <th>V9</th>\n",
              "      <th>...</th>\n",
              "      <th>V21</th>\n",
              "      <th>V22</th>\n",
              "      <th>V23</th>\n",
              "      <th>V24</th>\n",
              "      <th>V25</th>\n",
              "      <th>V26</th>\n",
              "      <th>V27</th>\n",
              "      <th>V28</th>\n",
              "      <th>Amount</th>\n",
              "      <th>Class</th>\n",
              "    </tr>\n",
              "  </thead>\n",
              "  <tbody>\n",
              "    <tr>\n",
              "      <th>0</th>\n",
              "      <td>0</td>\n",
              "      <td>-1.359807</td>\n",
              "      <td>-0.072781</td>\n",
              "      <td>2.536347</td>\n",
              "      <td>1.378155</td>\n",
              "      <td>-0.338321</td>\n",
              "      <td>0.462388</td>\n",
              "      <td>0.239599</td>\n",
              "      <td>0.098698</td>\n",
              "      <td>0.363787</td>\n",
              "      <td>...</td>\n",
              "      <td>-0.018307</td>\n",
              "      <td>0.277838</td>\n",
              "      <td>-0.110474</td>\n",
              "      <td>0.066928</td>\n",
              "      <td>0.128539</td>\n",
              "      <td>-0.189115</td>\n",
              "      <td>0.133558</td>\n",
              "      <td>-0.021053</td>\n",
              "      <td>149.62</td>\n",
              "      <td>0</td>\n",
              "    </tr>\n",
              "    <tr>\n",
              "      <th>1</th>\n",
              "      <td>0</td>\n",
              "      <td>1.191857</td>\n",
              "      <td>0.266151</td>\n",
              "      <td>0.166480</td>\n",
              "      <td>0.448154</td>\n",
              "      <td>0.060018</td>\n",
              "      <td>-0.082361</td>\n",
              "      <td>-0.078803</td>\n",
              "      <td>0.085102</td>\n",
              "      <td>-0.255425</td>\n",
              "      <td>...</td>\n",
              "      <td>-0.225775</td>\n",
              "      <td>-0.638672</td>\n",
              "      <td>0.101288</td>\n",
              "      <td>-0.339846</td>\n",
              "      <td>0.167170</td>\n",
              "      <td>0.125895</td>\n",
              "      <td>-0.008983</td>\n",
              "      <td>0.014724</td>\n",
              "      <td>2.69</td>\n",
              "      <td>1</td>\n",
              "    </tr>\n",
              "    <tr>\n",
              "      <th>2</th>\n",
              "      <td>1</td>\n",
              "      <td>-1.358354</td>\n",
              "      <td>-1.340163</td>\n",
              "      <td>1.773209</td>\n",
              "      <td>0.379780</td>\n",
              "      <td>-0.503198</td>\n",
              "      <td>1.800499</td>\n",
              "      <td>0.791461</td>\n",
              "      <td>0.247676</td>\n",
              "      <td>-1.514654</td>\n",
              "      <td>...</td>\n",
              "      <td>0.247998</td>\n",
              "      <td>0.771679</td>\n",
              "      <td>0.909412</td>\n",
              "      <td>-0.689281</td>\n",
              "      <td>-0.327642</td>\n",
              "      <td>-0.139097</td>\n",
              "      <td>-0.055353</td>\n",
              "      <td>-0.059752</td>\n",
              "      <td>378.66</td>\n",
              "      <td>0</td>\n",
              "    </tr>\n",
              "    <tr>\n",
              "      <th>3</th>\n",
              "      <td>1</td>\n",
              "      <td>-0.966272</td>\n",
              "      <td>-0.185226</td>\n",
              "      <td>1.792993</td>\n",
              "      <td>-0.863291</td>\n",
              "      <td>-0.010309</td>\n",
              "      <td>1.247203</td>\n",
              "      <td>0.237609</td>\n",
              "      <td>0.377436</td>\n",
              "      <td>-1.387024</td>\n",
              "      <td>...</td>\n",
              "      <td>-0.108300</td>\n",
              "      <td>0.005274</td>\n",
              "      <td>-0.190321</td>\n",
              "      <td>-1.175575</td>\n",
              "      <td>0.647376</td>\n",
              "      <td>-0.221929</td>\n",
              "      <td>0.062723</td>\n",
              "      <td>0.061458</td>\n",
              "      <td>123.50</td>\n",
              "      <td>0</td>\n",
              "    </tr>\n",
              "    <tr>\n",
              "      <th>4</th>\n",
              "      <td>2</td>\n",
              "      <td>-1.158233</td>\n",
              "      <td>0.877737</td>\n",
              "      <td>1.548718</td>\n",
              "      <td>0.403034</td>\n",
              "      <td>-0.407193</td>\n",
              "      <td>0.095921</td>\n",
              "      <td>0.592941</td>\n",
              "      <td>-0.270533</td>\n",
              "      <td>0.817739</td>\n",
              "      <td>...</td>\n",
              "      <td>-0.009431</td>\n",
              "      <td>0.798278</td>\n",
              "      <td>-0.137458</td>\n",
              "      <td>0.141267</td>\n",
              "      <td>-0.206010</td>\n",
              "      <td>0.502292</td>\n",
              "      <td>0.219422</td>\n",
              "      <td>0.215153</td>\n",
              "      <td>69.99</td>\n",
              "      <td>0</td>\n",
              "    </tr>\n",
              "  </tbody>\n",
              "</table>\n",
              "<p>5 rows × 31 columns</p>\n",
              "</div>"
            ],
            "text/plain": [
              "   Time        V1        V2        V3        V4        V5        V6        V7  \\\n",
              "0     0 -1.359807 -0.072781  2.536347  1.378155 -0.338321  0.462388  0.239599   \n",
              "1     0  1.191857  0.266151  0.166480  0.448154  0.060018 -0.082361 -0.078803   \n",
              "2     1 -1.358354 -1.340163  1.773209  0.379780 -0.503198  1.800499  0.791461   \n",
              "3     1 -0.966272 -0.185226  1.792993 -0.863291 -0.010309  1.247203  0.237609   \n",
              "4     2 -1.158233  0.877737  1.548718  0.403034 -0.407193  0.095921  0.592941   \n",
              "\n",
              "         V8        V9  ...       V21       V22       V23       V24       V25  \\\n",
              "0  0.098698  0.363787  ... -0.018307  0.277838 -0.110474  0.066928  0.128539   \n",
              "1  0.085102 -0.255425  ... -0.225775 -0.638672  0.101288 -0.339846  0.167170   \n",
              "2  0.247676 -1.514654  ...  0.247998  0.771679  0.909412 -0.689281 -0.327642   \n",
              "3  0.377436 -1.387024  ... -0.108300  0.005274 -0.190321 -1.175575  0.647376   \n",
              "4 -0.270533  0.817739  ... -0.009431  0.798278 -0.137458  0.141267 -0.206010   \n",
              "\n",
              "        V26       V27       V28  Amount  Class  \n",
              "0 -0.189115  0.133558 -0.021053  149.62      0  \n",
              "1  0.125895 -0.008983  0.014724    2.69      1  \n",
              "2 -0.139097 -0.055353 -0.059752  378.66      0  \n",
              "3 -0.221929  0.062723  0.061458  123.50      0  \n",
              "4  0.502292  0.219422  0.215153   69.99      0  \n",
              "\n",
              "[5 rows x 31 columns]"
            ]
          },
          "execution_count": 49,
          "metadata": {},
          "output_type": "execute_result"
        }
      ],
      "source": [
        "df.head()"
      ]
    },
    {
      "cell_type": "code",
      "execution_count": 50,
      "metadata": {
        "colab": {
          "base_uri": "https://localhost:8080/"
        },
        "id": "JaJtpDp2SLWB",
        "outputId": "223f45c1-92ef-4a60-ac99-b121effcbbf4"
      },
      "outputs": [
        {
          "name": "stdout",
          "output_type": "stream",
          "text": [
            "Class\n",
            "0    763\n",
            "1      9\n",
            "Name: count, dtype: int64\n"
          ]
        }
      ],
      "source": [
        "class_counts = df.Class.value_counts()\n",
        "print(class_counts)"
      ]
    },
    {
      "cell_type": "code",
      "execution_count": 51,
      "metadata": {
        "colab": {
          "base_uri": "https://localhost:8080/",
          "height": 472
        },
        "id": "aSIqSs0gZem0",
        "outputId": "e9532d56-6016-43bb-907c-1bb865a80b97"
      },
      "outputs": [
        {
          "data": {
            "image/png": "[encoded data removed]",
            "text/plain": [
              "<Figure size 640x480 with 1 Axes>"
            ]
          },
          "metadata": {},
          "output_type": "display_data"
        }
      ],
      "source": [
        "sns.barplot(x=class_counts.index, y=class_counts.values)\n",
        "\n",
        "plt.xlabel('Class')\n",
        "plt.ylabel('Count')\n",
        "plt.title('Class Distribution')\n",
        "\n",
        "plt.show()"
      ]
    },
    {
      "cell_type": "code",
      "execution_count": 52,
      "metadata": {
        "colab": {
          "base_uri": "https://localhost:8080/",
          "height": 255
        },
        "id": "gV_neC7XZ_y5",
        "outputId": "53c15d62-f8c8-4490-a720-68e8e6232178"
      },
      "outputs": [
        {
          "data": {
            "text/html": [
              "<div>\n",
              "<style scoped>\n",
              "    .dataframe tbody tr th:only-of-type {\n",
              "        vertical-align: middle;\n",
              "    }\n",
              "\n",
              "    .dataframe tbody tr th {\n",
              "        vertical-align: top;\n",
              "    }\n",
              "\n",
              "    .dataframe thead th {\n",
              "        text-align: right;\n",
              "    }\n",
              "</style>\n",
              "<table border=\"1\" class=\"dataframe\">\n",
              "  <thead>\n",
              "    <tr style=\"text-align: right;\">\n",
              "      <th></th>\n",
              "      <th>V1</th>\n",
              "      <th>V2</th>\n",
              "      <th>V3</th>\n",
              "      <th>V4</th>\n",
              "      <th>V5</th>\n",
              "      <th>V6</th>\n",
              "      <th>V7</th>\n",
              "      <th>V8</th>\n",
              "      <th>V9</th>\n",
              "      <th>V10</th>\n",
              "      <th>...</th>\n",
              "      <th>V21</th>\n",
              "      <th>V22</th>\n",
              "      <th>V23</th>\n",
              "      <th>V24</th>\n",
              "      <th>V25</th>\n",
              "      <th>V26</th>\n",
              "      <th>V27</th>\n",
              "      <th>V28</th>\n",
              "      <th>Amount</th>\n",
              "      <th>Class</th>\n",
              "    </tr>\n",
              "  </thead>\n",
              "  <tbody>\n",
              "    <tr>\n",
              "      <th>0</th>\n",
              "      <td>-1.359807</td>\n",
              "      <td>-0.072781</td>\n",
              "      <td>2.536347</td>\n",
              "      <td>1.378155</td>\n",
              "      <td>-0.338321</td>\n",
              "      <td>0.462388</td>\n",
              "      <td>0.239599</td>\n",
              "      <td>0.098698</td>\n",
              "      <td>0.363787</td>\n",
              "      <td>0.090794</td>\n",
              "      <td>...</td>\n",
              "      <td>-0.018307</td>\n",
              "      <td>0.277838</td>\n",
              "      <td>-0.110474</td>\n",
              "      <td>0.066928</td>\n",
              "      <td>0.128539</td>\n",
              "      <td>-0.189115</td>\n",
              "      <td>0.133558</td>\n",
              "      <td>-0.021053</td>\n",
              "      <td>0.025729</td>\n",
              "      <td>0</td>\n",
              "    </tr>\n",
              "    <tr>\n",
              "      <th>1</th>\n",
              "      <td>1.191857</td>\n",
              "      <td>0.266151</td>\n",
              "      <td>0.166480</td>\n",
              "      <td>0.448154</td>\n",
              "      <td>0.060018</td>\n",
              "      <td>-0.082361</td>\n",
              "      <td>-0.078803</td>\n",
              "      <td>0.085102</td>\n",
              "      <td>-0.255425</td>\n",
              "      <td>-0.166974</td>\n",
              "      <td>...</td>\n",
              "      <td>-0.225775</td>\n",
              "      <td>-0.638672</td>\n",
              "      <td>0.101288</td>\n",
              "      <td>-0.339846</td>\n",
              "      <td>0.167170</td>\n",
              "      <td>0.125895</td>\n",
              "      <td>-0.008983</td>\n",
              "      <td>0.014724</td>\n",
              "      <td>0.000463</td>\n",
              "      <td>1</td>\n",
              "    </tr>\n",
              "    <tr>\n",
              "      <th>2</th>\n",
              "      <td>-1.358354</td>\n",
              "      <td>-1.340163</td>\n",
              "      <td>1.773209</td>\n",
              "      <td>0.379780</td>\n",
              "      <td>-0.503198</td>\n",
              "      <td>1.800499</td>\n",
              "      <td>0.791461</td>\n",
              "      <td>0.247676</td>\n",
              "      <td>-1.514654</td>\n",
              "      <td>0.207643</td>\n",
              "      <td>...</td>\n",
              "      <td>0.247998</td>\n",
              "      <td>0.771679</td>\n",
              "      <td>0.909412</td>\n",
              "      <td>-0.689281</td>\n",
              "      <td>-0.327642</td>\n",
              "      <td>-0.139097</td>\n",
              "      <td>-0.055353</td>\n",
              "      <td>-0.059752</td>\n",
              "      <td>0.065115</td>\n",
              "      <td>0</td>\n",
              "    </tr>\n",
              "    <tr>\n",
              "      <th>3</th>\n",
              "      <td>-0.966272</td>\n",
              "      <td>-0.185226</td>\n",
              "      <td>1.792993</td>\n",
              "      <td>-0.863291</td>\n",
              "      <td>-0.010309</td>\n",
              "      <td>1.247203</td>\n",
              "      <td>0.237609</td>\n",
              "      <td>0.377436</td>\n",
              "      <td>-1.387024</td>\n",
              "      <td>-0.054952</td>\n",
              "      <td>...</td>\n",
              "      <td>-0.108300</td>\n",
              "      <td>0.005274</td>\n",
              "      <td>-0.190321</td>\n",
              "      <td>-1.175575</td>\n",
              "      <td>0.647376</td>\n",
              "      <td>-0.221929</td>\n",
              "      <td>0.062723</td>\n",
              "      <td>0.061458</td>\n",
              "      <td>0.021237</td>\n",
              "      <td>0</td>\n",
              "    </tr>\n",
              "    <tr>\n",
              "      <th>4</th>\n",
              "      <td>-1.158233</td>\n",
              "      <td>0.877737</td>\n",
              "      <td>1.548718</td>\n",
              "      <td>0.403034</td>\n",
              "      <td>-0.407193</td>\n",
              "      <td>0.095921</td>\n",
              "      <td>0.592941</td>\n",
              "      <td>-0.270533</td>\n",
              "      <td>0.817739</td>\n",
              "      <td>0.753074</td>\n",
              "      <td>...</td>\n",
              "      <td>-0.009431</td>\n",
              "      <td>0.798278</td>\n",
              "      <td>-0.137458</td>\n",
              "      <td>0.141267</td>\n",
              "      <td>-0.206010</td>\n",
              "      <td>0.502292</td>\n",
              "      <td>0.219422</td>\n",
              "      <td>0.215153</td>\n",
              "      <td>0.012036</td>\n",
              "      <td>0</td>\n",
              "    </tr>\n",
              "  </tbody>\n",
              "</table>\n",
              "<p>5 rows × 30 columns</p>\n",
              "</div>"
            ],
            "text/plain": [
              "         V1        V2        V3        V4        V5        V6        V7  \\\n",
              "0 -1.359807 -0.072781  2.536347  1.378155 -0.338321  0.462388  0.239599   \n",
              "1  1.191857  0.266151  0.166480  0.448154  0.060018 -0.082361 -0.078803   \n",
              "2 -1.358354 -1.340163  1.773209  0.379780 -0.503198  1.800499  0.791461   \n",
              "3 -0.966272 -0.185226  1.792993 -0.863291 -0.010309  1.247203  0.237609   \n",
              "4 -1.158233  0.877737  1.548718  0.403034 -0.407193  0.095921  0.592941   \n",
              "\n",
              "         V8        V9       V10  ...       V21       V22       V23       V24  \\\n",
              "0  0.098698  0.363787  0.090794  ... -0.018307  0.277838 -0.110474  0.066928   \n",
              "1  0.085102 -0.255425 -0.166974  ... -0.225775 -0.638672  0.101288 -0.339846   \n",
              "2  0.247676 -1.514654  0.207643  ...  0.247998  0.771679  0.909412 -0.689281   \n",
              "3  0.377436 -1.387024 -0.054952  ... -0.108300  0.005274 -0.190321 -1.175575   \n",
              "4 -0.270533  0.817739  0.753074  ... -0.009431  0.798278 -0.137458  0.141267   \n",
              "\n",
              "        V25       V26       V27       V28    Amount  Class  \n",
              "0  0.128539 -0.189115  0.133558 -0.021053  0.025729      0  \n",
              "1  0.167170  0.125895 -0.008983  0.014724  0.000463      1  \n",
              "2 -0.327642 -0.139097 -0.055353 -0.059752  0.065115      0  \n",
              "3  0.647376 -0.221929  0.062723  0.061458  0.021237      0  \n",
              "4 -0.206010  0.502292  0.219422  0.215153  0.012036      0  \n",
              "\n",
              "[5 rows x 30 columns]"
            ]
          },
          "execution_count": 52,
          "metadata": {},
          "output_type": "execute_result"
        }
      ],
      "source": [
        "Amount = normalize([df['Amount']])[0]\n",
        "df['Amount'] = Amount\n",
        "df = df.iloc[:, 1:]\n",
        "df.head()"
      ]
    },
    {
      "cell_type": "code",
      "execution_count": 53,
      "metadata": {
        "id": "OOxIGs48b7Mi"
      },
      "outputs": [],
      "source": [
        "x = df.drop('Class', axis=1)\n",
        "y = df['Class']   # target variable\n",
        "\n",
        "sampler = RandomOverSampler(sampling_strategy=0.95)\n",
        "x_resample, y_resample = sampler.fit_resample(x, y)"
      ]
    },
    {
      "cell_type": "code",
      "execution_count": 54,
      "metadata": {
        "colab": {
          "base_uri": "https://localhost:8080/",
          "height": 255
        },
        "id": "8mYQr2i5fB7O",
        "outputId": "b57e4bd0-0cdc-4704-9d65-252e0e24421f"
      },
      "outputs": [
        {
          "data": {
            "text/html": [
              "<div>\n",
              "<style scoped>\n",
              "    .dataframe tbody tr th:only-of-type {\n",
              "        vertical-align: middle;\n",
              "    }\n",
              "\n",
              "    .dataframe tbody tr th {\n",
              "        vertical-align: top;\n",
              "    }\n",
              "\n",
              "    .dataframe thead th {\n",
              "        text-align: right;\n",
              "    }\n",
              "</style>\n",
              "<table border=\"1\" class=\"dataframe\">\n",
              "  <thead>\n",
              "    <tr style=\"text-align: right;\">\n",
              "      <th></th>\n",
              "      <th>V1</th>\n",
              "      <th>V2</th>\n",
              "      <th>V3</th>\n",
              "      <th>V4</th>\n",
              "      <th>V5</th>\n",
              "      <th>V6</th>\n",
              "      <th>V7</th>\n",
              "      <th>V8</th>\n",
              "      <th>V9</th>\n",
              "      <th>V10</th>\n",
              "      <th>...</th>\n",
              "      <th>V20</th>\n",
              "      <th>V21</th>\n",
              "      <th>V22</th>\n",
              "      <th>V23</th>\n",
              "      <th>V24</th>\n",
              "      <th>V25</th>\n",
              "      <th>V26</th>\n",
              "      <th>V27</th>\n",
              "      <th>V28</th>\n",
              "      <th>Amount</th>\n",
              "    </tr>\n",
              "  </thead>\n",
              "  <tbody>\n",
              "    <tr>\n",
              "      <th>1482</th>\n",
              "      <td>-1.738582</td>\n",
              "      <td>0.052740</td>\n",
              "      <td>1.187057</td>\n",
              "      <td>-0.656652</td>\n",
              "      <td>0.920623</td>\n",
              "      <td>-0.291788</td>\n",
              "      <td>0.269083</td>\n",
              "      <td>0.140631</td>\n",
              "      <td>0.023464</td>\n",
              "      <td>-0.066407</td>\n",
              "      <td>...</td>\n",
              "      <td>0.002974</td>\n",
              "      <td>-0.179545</td>\n",
              "      <td>-0.192036</td>\n",
              "      <td>-0.261879</td>\n",
              "      <td>-0.237477</td>\n",
              "      <td>-0.335040</td>\n",
              "      <td>0.240323</td>\n",
              "      <td>-0.345129</td>\n",
              "      <td>-0.383563</td>\n",
              "      <td>0.000172</td>\n",
              "    </tr>\n",
              "    <tr>\n",
              "      <th>1483</th>\n",
              "      <td>-2.312227</td>\n",
              "      <td>1.951992</td>\n",
              "      <td>-1.609851</td>\n",
              "      <td>3.997906</td>\n",
              "      <td>-0.522188</td>\n",
              "      <td>-1.426545</td>\n",
              "      <td>-2.537387</td>\n",
              "      <td>1.391657</td>\n",
              "      <td>-2.770089</td>\n",
              "      <td>-2.772272</td>\n",
              "      <td>...</td>\n",
              "      <td>0.126911</td>\n",
              "      <td>0.517232</td>\n",
              "      <td>-0.035049</td>\n",
              "      <td>-0.465211</td>\n",
              "      <td>0.320198</td>\n",
              "      <td>0.044519</td>\n",
              "      <td>0.177840</td>\n",
              "      <td>0.261145</td>\n",
              "      <td>-0.143276</td>\n",
              "      <td>0.000000</td>\n",
              "    </tr>\n",
              "    <tr>\n",
              "      <th>1484</th>\n",
              "      <td>-0.928088</td>\n",
              "      <td>0.398194</td>\n",
              "      <td>1.741131</td>\n",
              "      <td>0.182673</td>\n",
              "      <td>0.966387</td>\n",
              "      <td>-0.901004</td>\n",
              "      <td>0.879016</td>\n",
              "      <td>-0.156590</td>\n",
              "      <td>-0.142117</td>\n",
              "      <td>-0.574775</td>\n",
              "      <td>...</td>\n",
              "      <td>-0.118283</td>\n",
              "      <td>0.066353</td>\n",
              "      <td>0.281378</td>\n",
              "      <td>-0.257966</td>\n",
              "      <td>0.385384</td>\n",
              "      <td>0.391117</td>\n",
              "      <td>-0.453853</td>\n",
              "      <td>-0.104448</td>\n",
              "      <td>-0.125765</td>\n",
              "      <td>0.000172</td>\n",
              "    </tr>\n",
              "    <tr>\n",
              "      <th>1485</th>\n",
              "      <td>-0.928088</td>\n",
              "      <td>0.398194</td>\n",
              "      <td>1.741131</td>\n",
              "      <td>0.182673</td>\n",
              "      <td>0.966387</td>\n",
              "      <td>-0.901004</td>\n",
              "      <td>0.879016</td>\n",
              "      <td>-0.156590</td>\n",
              "      <td>-0.142117</td>\n",
              "      <td>-0.574775</td>\n",
              "      <td>...</td>\n",
              "      <td>-0.118283</td>\n",
              "      <td>0.066353</td>\n",
              "      <td>0.281378</td>\n",
              "      <td>-0.257966</td>\n",
              "      <td>0.385384</td>\n",
              "      <td>0.391117</td>\n",
              "      <td>-0.453853</td>\n",
              "      <td>-0.104448</td>\n",
              "      <td>-0.125765</td>\n",
              "      <td>0.000172</td>\n",
              "    </tr>\n",
              "    <tr>\n",
              "      <th>1486</th>\n",
              "      <td>-1.738582</td>\n",
              "      <td>0.052740</td>\n",
              "      <td>1.187057</td>\n",
              "      <td>-0.656652</td>\n",
              "      <td>0.920623</td>\n",
              "      <td>-0.291788</td>\n",
              "      <td>0.269083</td>\n",
              "      <td>0.140631</td>\n",
              "      <td>0.023464</td>\n",
              "      <td>-0.066407</td>\n",
              "      <td>...</td>\n",
              "      <td>0.002974</td>\n",
              "      <td>-0.179545</td>\n",
              "      <td>-0.192036</td>\n",
              "      <td>-0.261879</td>\n",
              "      <td>-0.237477</td>\n",
              "      <td>-0.335040</td>\n",
              "      <td>0.240323</td>\n",
              "      <td>-0.345129</td>\n",
              "      <td>-0.383563</td>\n",
              "      <td>0.000172</td>\n",
              "    </tr>\n",
              "  </tbody>\n",
              "</table>\n",
              "<p>5 rows × 29 columns</p>\n",
              "</div>"
            ],
            "text/plain": [
              "            V1        V2        V3        V4        V5        V6        V7  \\\n",
              "1482 -1.738582  0.052740  1.187057 -0.656652  0.920623 -0.291788  0.269083   \n",
              "1483 -2.312227  1.951992 -1.609851  3.997906 -0.522188 -1.426545 -2.537387   \n",
              "1484 -0.928088  0.398194  1.741131  0.182673  0.966387 -0.901004  0.879016   \n",
              "1485 -0.928088  0.398194  1.741131  0.182673  0.966387 -0.901004  0.879016   \n",
              "1486 -1.738582  0.052740  1.187057 -0.656652  0.920623 -0.291788  0.269083   \n",
              "\n",
              "            V8        V9       V10  ...       V20       V21       V22  \\\n",
              "1482  0.140631  0.023464 -0.066407  ...  0.002974 -0.179545 -0.192036   \n",
              "1483  1.391657 -2.770089 -2.772272  ...  0.126911  0.517232 -0.035049   \n",
              "1484 -0.156590 -0.142117 -0.574775  ... -0.118283  0.066353  0.281378   \n",
              "1485 -0.156590 -0.142117 -0.574775  ... -0.118283  0.066353  0.281378   \n",
              "1486  0.140631  0.023464 -0.066407  ...  0.002974 -0.179545 -0.192036   \n",
              "\n",
              "           V23       V24       V25       V26       V27       V28    Amount  \n",
              "1482 -0.261879 -0.237477 -0.335040  0.240323 -0.345129 -0.383563  0.000172  \n",
              "1483 -0.465211  0.320198  0.044519  0.177840  0.261145 -0.143276  0.000000  \n",
              "1484 -0.257966  0.385384  0.391117 -0.453853 -0.104448 -0.125765  0.000172  \n",
              "1485 -0.257966  0.385384  0.391117 -0.453853 -0.104448 -0.125765  0.000172  \n",
              "1486 -0.261879 -0.237477 -0.335040  0.240323 -0.345129 -0.383563  0.000172  \n",
              "\n",
              "[5 rows x 29 columns]"
            ]
          },
          "execution_count": 54,
          "metadata": {},
          "output_type": "execute_result"
        }
      ],
      "source": [
        "x_resample.tail()"
      ]
    },
    {
      "cell_type": "code",
      "execution_count": 55,
      "metadata": {
        "colab": {
          "base_uri": "https://localhost:8080/"
        },
        "id": "ZJyTBJNAfsdF",
        "outputId": "bfa9da45-247b-49bf-8488-755ef4f84d12"
      },
      "outputs": [
        {
          "data": {
            "text/plain": [
              "1482    1\n",
              "1483    1\n",
              "1484    1\n",
              "1485    1\n",
              "1486    1\n",
              "Name: Class, dtype: int64"
            ]
          },
          "execution_count": 55,
          "metadata": {},
          "output_type": "execute_result"
        }
      ],
      "source": [
        "y_resample.tail()"
      ]
    },
    {
      "cell_type": "code",
      "execution_count": 56,
      "metadata": {
        "colab": {
          "base_uri": "https://localhost:8080/",
          "height": 443
        },
        "id": "bP0HTSJCgJOl",
        "outputId": "ddb05aef-e18d-4342-e8f7-560519c7e2a2"
      },
      "outputs": [
        {
          "data": {
            "text/html": [
              "<div>\n",
              "<style scoped>\n",
              "    .dataframe tbody tr th:only-of-type {\n",
              "        vertical-align: middle;\n",
              "    }\n",
              "\n",
              "    .dataframe tbody tr th {\n",
              "        vertical-align: top;\n",
              "    }\n",
              "\n",
              "    .dataframe thead th {\n",
              "        text-align: right;\n",
              "    }\n",
              "</style>\n",
              "<table border=\"1\" class=\"dataframe\">\n",
              "  <thead>\n",
              "    <tr style=\"text-align: right;\">\n",
              "      <th></th>\n",
              "      <th>V1</th>\n",
              "      <th>V2</th>\n",
              "      <th>V3</th>\n",
              "      <th>V4</th>\n",
              "      <th>V5</th>\n",
              "      <th>V6</th>\n",
              "      <th>V7</th>\n",
              "      <th>V8</th>\n",
              "      <th>V9</th>\n",
              "      <th>V10</th>\n",
              "      <th>...</th>\n",
              "      <th>V21</th>\n",
              "      <th>V22</th>\n",
              "      <th>V23</th>\n",
              "      <th>V24</th>\n",
              "      <th>V25</th>\n",
              "      <th>V26</th>\n",
              "      <th>V27</th>\n",
              "      <th>V28</th>\n",
              "      <th>Amount</th>\n",
              "      <th>Class</th>\n",
              "    </tr>\n",
              "  </thead>\n",
              "  <tbody>\n",
              "    <tr>\n",
              "      <th>0</th>\n",
              "      <td>-1.359807</td>\n",
              "      <td>-0.072781</td>\n",
              "      <td>2.536347</td>\n",
              "      <td>1.378155</td>\n",
              "      <td>-0.338321</td>\n",
              "      <td>0.462388</td>\n",
              "      <td>0.239599</td>\n",
              "      <td>0.098698</td>\n",
              "      <td>0.363787</td>\n",
              "      <td>0.090794</td>\n",
              "      <td>...</td>\n",
              "      <td>-0.018307</td>\n",
              "      <td>0.277838</td>\n",
              "      <td>-0.110474</td>\n",
              "      <td>0.066928</td>\n",
              "      <td>0.128539</td>\n",
              "      <td>-0.189115</td>\n",
              "      <td>0.133558</td>\n",
              "      <td>-0.021053</td>\n",
              "      <td>0.025729</td>\n",
              "      <td>0</td>\n",
              "    </tr>\n",
              "    <tr>\n",
              "      <th>1</th>\n",
              "      <td>1.191857</td>\n",
              "      <td>0.266151</td>\n",
              "      <td>0.166480</td>\n",
              "      <td>0.448154</td>\n",
              "      <td>0.060018</td>\n",
              "      <td>-0.082361</td>\n",
              "      <td>-0.078803</td>\n",
              "      <td>0.085102</td>\n",
              "      <td>-0.255425</td>\n",
              "      <td>-0.166974</td>\n",
              "      <td>...</td>\n",
              "      <td>-0.225775</td>\n",
              "      <td>-0.638672</td>\n",
              "      <td>0.101288</td>\n",
              "      <td>-0.339846</td>\n",
              "      <td>0.167170</td>\n",
              "      <td>0.125895</td>\n",
              "      <td>-0.008983</td>\n",
              "      <td>0.014724</td>\n",
              "      <td>0.000463</td>\n",
              "      <td>1</td>\n",
              "    </tr>\n",
              "    <tr>\n",
              "      <th>2</th>\n",
              "      <td>-1.358354</td>\n",
              "      <td>-1.340163</td>\n",
              "      <td>1.773209</td>\n",
              "      <td>0.379780</td>\n",
              "      <td>-0.503198</td>\n",
              "      <td>1.800499</td>\n",
              "      <td>0.791461</td>\n",
              "      <td>0.247676</td>\n",
              "      <td>-1.514654</td>\n",
              "      <td>0.207643</td>\n",
              "      <td>...</td>\n",
              "      <td>0.247998</td>\n",
              "      <td>0.771679</td>\n",
              "      <td>0.909412</td>\n",
              "      <td>-0.689281</td>\n",
              "      <td>-0.327642</td>\n",
              "      <td>-0.139097</td>\n",
              "      <td>-0.055353</td>\n",
              "      <td>-0.059752</td>\n",
              "      <td>0.065115</td>\n",
              "      <td>0</td>\n",
              "    </tr>\n",
              "    <tr>\n",
              "      <th>3</th>\n",
              "      <td>-0.966272</td>\n",
              "      <td>-0.185226</td>\n",
              "      <td>1.792993</td>\n",
              "      <td>-0.863291</td>\n",
              "      <td>-0.010309</td>\n",
              "      <td>1.247203</td>\n",
              "      <td>0.237609</td>\n",
              "      <td>0.377436</td>\n",
              "      <td>-1.387024</td>\n",
              "      <td>-0.054952</td>\n",
              "      <td>...</td>\n",
              "      <td>-0.108300</td>\n",
              "      <td>0.005274</td>\n",
              "      <td>-0.190321</td>\n",
              "      <td>-1.175575</td>\n",
              "      <td>0.647376</td>\n",
              "      <td>-0.221929</td>\n",
              "      <td>0.062723</td>\n",
              "      <td>0.061458</td>\n",
              "      <td>0.021237</td>\n",
              "      <td>0</td>\n",
              "    </tr>\n",
              "    <tr>\n",
              "      <th>4</th>\n",
              "      <td>-1.158233</td>\n",
              "      <td>0.877737</td>\n",
              "      <td>1.548718</td>\n",
              "      <td>0.403034</td>\n",
              "      <td>-0.407193</td>\n",
              "      <td>0.095921</td>\n",
              "      <td>0.592941</td>\n",
              "      <td>-0.270533</td>\n",
              "      <td>0.817739</td>\n",
              "      <td>0.753074</td>\n",
              "      <td>...</td>\n",
              "      <td>-0.009431</td>\n",
              "      <td>0.798278</td>\n",
              "      <td>-0.137458</td>\n",
              "      <td>0.141267</td>\n",
              "      <td>-0.206010</td>\n",
              "      <td>0.502292</td>\n",
              "      <td>0.219422</td>\n",
              "      <td>0.215153</td>\n",
              "      <td>0.012036</td>\n",
              "      <td>0</td>\n",
              "    </tr>\n",
              "    <tr>\n",
              "      <th>...</th>\n",
              "      <td>...</td>\n",
              "      <td>...</td>\n",
              "      <td>...</td>\n",
              "      <td>...</td>\n",
              "      <td>...</td>\n",
              "      <td>...</td>\n",
              "      <td>...</td>\n",
              "      <td>...</td>\n",
              "      <td>...</td>\n",
              "      <td>...</td>\n",
              "      <td>...</td>\n",
              "      <td>...</td>\n",
              "      <td>...</td>\n",
              "      <td>...</td>\n",
              "      <td>...</td>\n",
              "      <td>...</td>\n",
              "      <td>...</td>\n",
              "      <td>...</td>\n",
              "      <td>...</td>\n",
              "      <td>...</td>\n",
              "      <td>...</td>\n",
              "    </tr>\n",
              "    <tr>\n",
              "      <th>1482</th>\n",
              "      <td>-1.738582</td>\n",
              "      <td>0.052740</td>\n",
              "      <td>1.187057</td>\n",
              "      <td>-0.656652</td>\n",
              "      <td>0.920623</td>\n",
              "      <td>-0.291788</td>\n",
              "      <td>0.269083</td>\n",
              "      <td>0.140631</td>\n",
              "      <td>0.023464</td>\n",
              "      <td>-0.066407</td>\n",
              "      <td>...</td>\n",
              "      <td>-0.179545</td>\n",
              "      <td>-0.192036</td>\n",
              "      <td>-0.261879</td>\n",
              "      <td>-0.237477</td>\n",
              "      <td>-0.335040</td>\n",
              "      <td>0.240323</td>\n",
              "      <td>-0.345129</td>\n",
              "      <td>-0.383563</td>\n",
              "      <td>0.000172</td>\n",
              "      <td>1</td>\n",
              "    </tr>\n",
              "    <tr>\n",
              "      <th>1483</th>\n",
              "      <td>-2.312227</td>\n",
              "      <td>1.951992</td>\n",
              "      <td>-1.609851</td>\n",
              "      <td>3.997906</td>\n",
              "      <td>-0.522188</td>\n",
              "      <td>-1.426545</td>\n",
              "      <td>-2.537387</td>\n",
              "      <td>1.391657</td>\n",
              "      <td>-2.770089</td>\n",
              "      <td>-2.772272</td>\n",
              "      <td>...</td>\n",
              "      <td>0.517232</td>\n",
              "      <td>-0.035049</td>\n",
              "      <td>-0.465211</td>\n",
              "      <td>0.320198</td>\n",
              "      <td>0.044519</td>\n",
              "      <td>0.177840</td>\n",
              "      <td>0.261145</td>\n",
              "      <td>-0.143276</td>\n",
              "      <td>0.000000</td>\n",
              "      <td>1</td>\n",
              "    </tr>\n",
              "    <tr>\n",
              "      <th>1484</th>\n",
              "      <td>-0.928088</td>\n",
              "      <td>0.398194</td>\n",
              "      <td>1.741131</td>\n",
              "      <td>0.182673</td>\n",
              "      <td>0.966387</td>\n",
              "      <td>-0.901004</td>\n",
              "      <td>0.879016</td>\n",
              "      <td>-0.156590</td>\n",
              "      <td>-0.142117</td>\n",
              "      <td>-0.574775</td>\n",
              "      <td>...</td>\n",
              "      <td>0.066353</td>\n",
              "      <td>0.281378</td>\n",
              "      <td>-0.257966</td>\n",
              "      <td>0.385384</td>\n",
              "      <td>0.391117</td>\n",
              "      <td>-0.453853</td>\n",
              "      <td>-0.104448</td>\n",
              "      <td>-0.125765</td>\n",
              "      <td>0.000172</td>\n",
              "      <td>1</td>\n",
              "    </tr>\n",
              "    <tr>\n",
              "      <th>1485</th>\n",
              "      <td>-0.928088</td>\n",
              "      <td>0.398194</td>\n",
              "      <td>1.741131</td>\n",
              "      <td>0.182673</td>\n",
              "      <td>0.966387</td>\n",
              "      <td>-0.901004</td>\n",
              "      <td>0.879016</td>\n",
              "      <td>-0.156590</td>\n",
              "      <td>-0.142117</td>\n",
              "      <td>-0.574775</td>\n",
              "      <td>...</td>\n",
              "      <td>0.066353</td>\n",
              "      <td>0.281378</td>\n",
              "      <td>-0.257966</td>\n",
              "      <td>0.385384</td>\n",
              "      <td>0.391117</td>\n",
              "      <td>-0.453853</td>\n",
              "      <td>-0.104448</td>\n",
              "      <td>-0.125765</td>\n",
              "      <td>0.000172</td>\n",
              "      <td>1</td>\n",
              "    </tr>\n",
              "    <tr>\n",
              "      <th>1486</th>\n",
              "      <td>-1.738582</td>\n",
              "      <td>0.052740</td>\n",
              "      <td>1.187057</td>\n",
              "      <td>-0.656652</td>\n",
              "      <td>0.920623</td>\n",
              "      <td>-0.291788</td>\n",
              "      <td>0.269083</td>\n",
              "      <td>0.140631</td>\n",
              "      <td>0.023464</td>\n",
              "      <td>-0.066407</td>\n",
              "      <td>...</td>\n",
              "      <td>-0.179545</td>\n",
              "      <td>-0.192036</td>\n",
              "      <td>-0.261879</td>\n",
              "      <td>-0.237477</td>\n",
              "      <td>-0.335040</td>\n",
              "      <td>0.240323</td>\n",
              "      <td>-0.345129</td>\n",
              "      <td>-0.383563</td>\n",
              "      <td>0.000172</td>\n",
              "      <td>1</td>\n",
              "    </tr>\n",
              "  </tbody>\n",
              "</table>\n",
              "<p>1487 rows × 30 columns</p>\n",
              "</div>"
            ],
            "text/plain": [
              "            V1        V2        V3        V4        V5        V6        V7  \\\n",
              "0    -1.359807 -0.072781  2.536347  1.378155 -0.338321  0.462388  0.239599   \n",
              "1     1.191857  0.266151  0.166480  0.448154  0.060018 -0.082361 -0.078803   \n",
              "2    -1.358354 -1.340163  1.773209  0.379780 -0.503198  1.800499  0.791461   \n",
              "3    -0.966272 -0.185226  1.792993 -0.863291 -0.010309  1.247203  0.237609   \n",
              "4    -1.158233  0.877737  1.548718  0.403034 -0.407193  0.095921  0.592941   \n",
              "...        ...       ...       ...       ...       ...       ...       ...   \n",
              "1482 -1.738582  0.052740  1.187057 -0.656652  0.920623 -0.291788  0.269083   \n",
              "1483 -2.312227  1.951992 -1.609851  3.997906 -0.522188 -1.426545 -2.537387   \n",
              "1484 -0.928088  0.398194  1.741131  0.182673  0.966387 -0.901004  0.879016   \n",
              "1485 -0.928088  0.398194  1.741131  0.182673  0.966387 -0.901004  0.879016   \n",
              "1486 -1.738582  0.052740  1.187057 -0.656652  0.920623 -0.291788  0.269083   \n",
              "\n",
              "            V8        V9       V10  ...       V21       V22       V23  \\\n",
              "0     0.098698  0.363787  0.090794  ... -0.018307  0.277838 -0.110474   \n",
              "1     0.085102 -0.255425 -0.166974  ... -0.225775 -0.638672  0.101288   \n",
              "2     0.247676 -1.514654  0.207643  ...  0.247998  0.771679  0.909412   \n",
              "3     0.377436 -1.387024 -0.054952  ... -0.108300  0.005274 -0.190321   \n",
              "4    -0.270533  0.817739  0.753074  ... -0.009431  0.798278 -0.137458   \n",
              "...        ...       ...       ...  ...       ...       ...       ...   \n",
              "1482  0.140631  0.023464 -0.066407  ... -0.179545 -0.192036 -0.261879   \n",
              "1483  1.391657 -2.770089 -2.772272  ...  0.517232 -0.035049 -0.465211   \n",
              "1484 -0.156590 -0.142117 -0.574775  ...  0.066353  0.281378 -0.257966   \n",
              "1485 -0.156590 -0.142117 -0.574775  ...  0.066353  0.281378 -0.257966   \n",
              "1486  0.140631  0.023464 -0.066407  ... -0.179545 -0.192036 -0.261879   \n",
              "\n",
              "           V24       V25       V26       V27       V28    Amount  Class  \n",
              "0     0.066928  0.128539 -0.189115  0.133558 -0.021053  0.025729      0  \n",
              "1    -0.339846  0.167170  0.125895 -0.008983  0.014724  0.000463      1  \n",
              "2    -0.689281 -0.327642 -0.139097 -0.055353 -0.059752  0.065115      0  \n",
              "3    -1.175575  0.647376 -0.221929  0.062723  0.061458  0.021237      0  \n",
              "4     0.141267 -0.206010  0.502292  0.219422  0.215153  0.012036      0  \n",
              "...        ...       ...       ...       ...       ...       ...    ...  \n",
              "1482 -0.237477 -0.335040  0.240323 -0.345129 -0.383563  0.000172      1  \n",
              "1483  0.320198  0.044519  0.177840  0.261145 -0.143276  0.000000      1  \n",
              "1484  0.385384  0.391117 -0.453853 -0.104448 -0.125765  0.000172      1  \n",
              "1485  0.385384  0.391117 -0.453853 -0.104448 -0.125765  0.000172      1  \n",
              "1486 -0.237477 -0.335040  0.240323 -0.345129 -0.383563  0.000172      1  \n",
              "\n",
              "[1487 rows x 30 columns]"
            ]
          },
          "execution_count": 56,
          "metadata": {},
          "output_type": "execute_result"
        }
      ],
      "source": [
        "resampled_df = pd.concat([x_resample, y_resample], axis=1)\n",
        "resampled_df"
      ]
    },
    {
      "cell_type": "markdown",
      "metadata": {
        "id": "YkOIEu8WQJwk"
      },
      "source": [
        "# Simple Random Sampling"
      ]
    },
    {
      "cell_type": "code",
      "execution_count": 57,
      "metadata": {
        "colab": {
          "base_uri": "https://localhost:8080/"
        },
        "id": "LhBI0flXhbXv",
        "outputId": "af018d93-1b1d-41a6-cb80-293db3484364"
      },
      "outputs": [
        {
          "data": {
            "text/plain": [
              "(384, 30)"
            ]
          },
          "execution_count": 57,
          "metadata": {},
          "output_type": "execute_result"
        }
      ],
      "source": [
        "#Simple Random Sampling\n",
        "n = int(((1.96**2)*(0.5**2))/(0.05**2))   # 1.96 is Z score for 95% confidence level, 0.5 represents assumed variance\n",
        "SimpleSampling = resampled_df.sample(n=n, random_state=42) # random_state = 42 ensures reproducibility\n",
        "SimpleSampling.shape"
      ]
    },
    {
      "cell_type": "code",
      "execution_count": 58,
      "metadata": {
        "colab": {
          "base_uri": "https://localhost:8080/"
        },
        "id": "VAuBQA0bQHRz",
        "outputId": "1c98b53f-6506-4c82-b433-91ee2a6fe671"
      },
      "outputs": [
        {
          "name": "stdout",
          "output_type": "stream",
          "text": [
            "Random Forest : 1.0000\n",
            "Logistic Regression : 0.8831\n",
            "Decision Trees : 0.9610\n",
            "Gradient Boosting : 0.9870\n",
            "Support Vector Machines : 0.8831\n"
          ]
        }
      ],
      "source": [
        "x = SimpleSampling.drop('Class', axis=1)\n",
        "y = SimpleSampling['Class']\n",
        "\n",
        "X_train, X_test, y_train, y_test = train_test_split(x, y, test_size=0.2, random_state=42)\n",
        "\n",
        "rf_model = RandomForestClassifier(random_state=42)\n",
        "lr_model = LogisticRegression()\n",
        "dt_model = DecisionTreeClassifier(random_state=42)\n",
        "gbm_model = GradientBoostingClassifier(random_state=42)\n",
        "svm_model = SVC(random_state=42)\n",
        "\n",
        "models = [rf_model, lr_model, dt_model, gbm_model, svm_model]\n",
        "model_names = ['Random Forest', 'Logistic Regression', 'Decision Trees', 'Gradient Boosting', 'Support Vector Machines']\n",
        "\n",
        "accuracies = []\n",
        "\n",
        "for model, name in zip(models, model_names):\n",
        "    model.fit(X_train, y_train)\n",
        "    y_pred = model.predict(X_test)\n",
        "    accuracy = accuracy_score(y_test, y_pred)\n",
        "    accuracies.append(accuracy)\n",
        "    print(f\"{name} : {accuracy:.4f}\")\n",
        "\n"
      ]
    },
    {
      "cell_type": "markdown",
      "metadata": {
        "id": "UzMwctwVo8H2"
      },
      "source": [
        "# Cluster Sampling\n"
      ]
    },
    {
      "cell_type": "code",
      "execution_count": 59,
      "metadata": {
        "colab": {
          "base_uri": "https://localhost:8080/"
        },
        "id": "VW7UU99qT7Si",
        "outputId": "190ea41b-2bfb-440e-9bef-5a39fa0cd0f0"
      },
      "outputs": [
        {
          "name": "stdout",
          "output_type": "stream",
          "text": [
            "(543, 30)\n"
          ]
        }
      ],
      "source": [
        "import random\n",
        "\n",
        "num_clusters = 8\n",
        "\n",
        "kmeans = KMeans(n_clusters=num_clusters, n_init='auto', random_state=42)\n",
        "\n",
        "clusters = kmeans.fit_predict(resampled_df)\n",
        "clusters = pd.Series(clusters)\n",
        "\n",
        "selected_clusters = random.sample(range(num_clusters), 4)\n",
        "ClusterSample = resampled_df.loc[clusters.isin(selected_clusters)]\n",
        "print(ClusterSample.shape)"
      ]
    },
    {
      "cell_type": "code",
      "execution_count": 60,
      "metadata": {
        "colab": {
          "base_uri": "https://localhost:8080/"
        },
        "id": "xOzn4jmWqMsR",
        "outputId": "76864291-2ced-4bc1-8bfc-c43b30f488f4"
      },
      "outputs": [
        {
          "name": "stdout",
          "output_type": "stream",
          "text": [
            "Random Forest : 1.0000\n",
            "Logistic Regression : 0.9450\n",
            "Decision Trees : 0.9908\n",
            "Gradient Boosting : 0.9908\n",
            "Support Vector Machines : 0.9908\n"
          ]
        }
      ],
      "source": [
        "x = ClusterSample.drop('Class', axis=1)\n",
        "y = ClusterSample['Class']\n",
        "\n",
        "X_train, X_test, y_train, y_test = train_test_split(x, y, test_size=0.2, random_state=42)\n",
        "\n",
        "rf_model = RandomForestClassifier(random_state=42)\n",
        "lr_model = LogisticRegression()\n",
        "dt_model = DecisionTreeClassifier(random_state=42)\n",
        "gbm_model = GradientBoostingClassifier(random_state=42)\n",
        "svm_model = SVC(random_state=42)\n",
        "\n",
        "models = [rf_model, lr_model, dt_model, gbm_model, svm_model]\n",
        "model_names = ['Random Forest', 'Logistic Regression', 'Decision Trees', 'Gradient Boosting', 'Support Vector Machines']\n",
        "\n",
        "accuracies = []\n",
        "\n",
        "for model, name in zip(models, model_names):\n",
        "    model.fit(X_train, y_train)\n",
        "    y_pred = model.predict(X_test)\n",
        "    accuracy = accuracy_score(y_test, y_pred)\n",
        "    accuracies.append(accuracy)\n",
        "    print(f\"{name} : {accuracy:.4f}\")\n"
      ]
    },
    {
      "cell_type": "markdown",
      "metadata": {
        "id": "Sf1WSZ-tqsx1"
      },
      "source": [
        "# Systematic Sampling"
      ]
    },
    {
      "cell_type": "code",
      "execution_count": 61,
      "metadata": {
        "colab": {
          "base_uri": "https://localhost:8080/"
        },
        "id": "qEgglAiUqiez",
        "outputId": "8aef05dd-318f-4d2a-e40c-d6fe7f5b66e6"
      },
      "outputs": [
        {
          "data": {
            "text/plain": [
              "(744, 30)"
            ]
          },
          "execution_count": 61,
          "metadata": {},
          "output_type": "execute_result"
        }
      ],
      "source": [
        "SystematicSampling = resampled_df.sample(frac=1, random_state=42).reset_index(drop=True)\n",
        "\n",
        "sampling_interval = 2\n",
        "SystematicSample = SystematicSampling.iloc[::sampling_interval]\n",
        "SystematicSample.shape"
      ]
    },
    {
      "cell_type": "code",
      "execution_count": 62,
      "metadata": {
        "colab": {
          "base_uri": "https://localhost:8080/"
        },
        "id": "1wfheFj1rVRg",
        "outputId": "f703c8d3-dcfb-498f-deac-455f597bbabc"
      },
      "outputs": [
        {
          "name": "stdout",
          "output_type": "stream",
          "text": [
            "Random Forest : 1.0000\n",
            "Logistic Regression : 0.8993\n",
            "Decision Trees : 1.0000\n",
            "Gradient Boosting : 1.0000\n",
            "Support Vector Machines : 0.9530\n"
          ]
        }
      ],
      "source": [
        "x = SystematicSample.drop('Class', axis=1)\n",
        "y = SystematicSample['Class']\n",
        "\n",
        "X_train, X_test, y_train, y_test = train_test_split(x, y, test_size=0.2, random_state=42)\n",
        "\n",
        "rf_model = RandomForestClassifier(random_state=42)\n",
        "lr_model = LogisticRegression()\n",
        "dt_model = DecisionTreeClassifier(random_state=42)\n",
        "gbm_model = GradientBoostingClassifier(random_state=42)\n",
        "svm_model = SVC(random_state=42)\n",
        "\n",
        "models = [rf_model, lr_model, dt_model, gbm_model, svm_model]\n",
        "model_names = ['Random Forest', 'Logistic Regression', 'Decision Trees', 'Gradient Boosting', 'Support Vector Machines']\n",
        "\n",
        "accuracies = []\n",
        "\n",
        "for model, name in zip(models, model_names):\n",
        "    model.fit(X_train, y_train)\n",
        "    y_pred = model.predict(X_test)\n",
        "    accuracy = accuracy_score(y_test, y_pred)\n",
        "    accuracies.append(accuracy)\n",
        "    print(f\"{name} : {accuracy:.4f}\")\n"
      ]
    },
    {
      "cell_type": "markdown",
      "metadata": {
        "id": "E4k1UMqqr1-7"
      },
      "source": [
        "# Bootstrap Sampling"
      ]
    },
    {
      "cell_type": "code",
      "execution_count": 63,
      "metadata": {
        "colab": {
          "base_uri": "https://localhost:8080/"
        },
        "id": "r57SUkSSr40K",
        "outputId": "10e27e80-dcf2-4378-a427-a2ec01e56bb9"
      },
      "outputs": [
        {
          "name": "stdout",
          "output_type": "stream",
          "text": [
            "Final Shape of Bootstrap Samples DataFrame: (400, 30)\n"
          ]
        }
      ],
      "source": [
        "n_bootstrap = 100\n",
        "desired_sample_size = 400\n",
        "BootstrapSamples = pd.DataFrame()\n",
        "for _ in range(n_bootstrap):\n",
        "    resampled_data = resampled_df.sample(n=len(df), replace=True, random_state=42)\n",
        "    BootstrapSamples = pd.concat([BootstrapSamples, resampled_data])\n",
        "    if BootstrapSamples.shape[0] >= desired_sample_size:\n",
        "        break\n",
        "BootstrapSamples = BootstrapSamples.iloc[:desired_sample_size, :]\n",
        "print(\"Final Shape of Bootstrap Samples DataFrame:\", BootstrapSamples.shape)"
      ]
    },
    {
      "cell_type": "code",
      "execution_count": 64,
      "metadata": {
        "colab": {
          "base_uri": "https://localhost:8080/"
        },
        "id": "JEo44NV0s4DW",
        "outputId": "d5cc0e81-3fa1-4ac2-c88d-dad2f542bc79"
      },
      "outputs": [
        {
          "name": "stdout",
          "output_type": "stream",
          "text": [
            "Random Forest : 1.0000\n",
            "Logistic Regression : 0.9250\n",
            "Decision Trees : 0.9625\n",
            "Gradient Boosting : 1.0000\n",
            "Support Vector Machines : 0.9750\n"
          ]
        }
      ],
      "source": [
        "x = BootstrapSamples.drop('Class', axis=1)\n",
        "y = BootstrapSamples['Class']\n",
        "\n",
        "X_train, X_test, y_train, y_test = train_test_split(x, y, test_size=0.2, random_state=42)\n",
        "\n",
        "rf_model = RandomForestClassifier(random_state=42)\n",
        "lr_model = LogisticRegression()\n",
        "dt_model = DecisionTreeClassifier(random_state=42)\n",
        "gbm_model = GradientBoostingClassifier(random_state=42)\n",
        "svm_model = SVC(random_state=42)\n",
        "\n",
        "models = [rf_model, lr_model, dt_model, gbm_model, svm_model]\n",
        "model_names = ['Random Forest', 'Logistic Regression', 'Decision Trees', 'Gradient Boosting', 'Support Vector Machines']\n",
        "\n",
        "accuracies = []\n",
        "\n",
        "for model, name in zip(models, model_names):\n",
        "    model.fit(X_train, y_train)\n",
        "    y_pred = model.predict(X_test)\n",
        "    accuracy = accuracy_score(y_test, y_pred)\n",
        "    accuracies.append(accuracy)\n",
        "    print(f\"{name} : {accuracy:.4f}\")"
      ]
    },
    {
      "cell_type": "markdown",
      "metadata": {
        "id": "yxd9p0hftDcJ"
      },
      "source": [
        "# Stratified Sampling"
      ]
    },
    {
      "cell_type": "code",
      "execution_count": 65,
      "metadata": {
        "colab": {
          "base_uri": "https://localhost:8080/"
        },
        "id": "g8LVDtT0tARi",
        "outputId": "fb4a3812-bef5-4c66-b0d5-d1679ff4e042"
      },
      "outputs": [
        {
          "data": {
            "text/plain": [
              "(669, 30)"
            ]
          },
          "execution_count": 65,
          "metadata": {},
          "output_type": "execute_result"
        }
      ],
      "source": [
        "n = int((1.96*1.96 * 0.5*0.5)/((0.05)**2))\n",
        "StratifiedSampling = resampled_df.groupby('Class')\n",
        "StratifiedSample=StratifiedSampling.sample(frac= 0.45)\n",
        "StratifiedSample.shape"
      ]
    },
    {
      "cell_type": "code",
      "execution_count": 66,
      "metadata": {
        "colab": {
          "base_uri": "https://localhost:8080/"
        },
        "id": "FfHdGIPGt6Fe",
        "outputId": "79b95ffb-d30a-4531-a872-85eca1ed823a"
      },
      "outputs": [
        {
          "name": "stdout",
          "output_type": "stream",
          "text": [
            "Random Forest : 1.0000\n",
            "Logistic Regression : 0.9403\n",
            "Decision Trees : 0.9627\n",
            "Gradient Boosting : 0.9701\n",
            "Support Vector Machines : 0.9776\n"
          ]
        }
      ],
      "source": [
        "x = StratifiedSample.drop('Class', axis=1)\n",
        "y = StratifiedSample['Class']\n",
        "\n",
        "X_train, X_test, y_train, y_test = train_test_split(x, y, test_size=0.2, random_state=42)\n",
        "\n",
        "rf_model = RandomForestClassifier(random_state=42)\n",
        "lr_model = LogisticRegression()\n",
        "dt_model = DecisionTreeClassifier(random_state=42)\n",
        "gbm_model = GradientBoostingClassifier(random_state=42)\n",
        "svm_model = SVC(random_state=42)\n",
        "\n",
        "models = [rf_model, lr_model, dt_model, gbm_model, svm_model]\n",
        "model_names = ['Random Forest', 'Logistic Regression', 'Decision Trees', 'Gradient Boosting', 'Support Vector Machines']\n",
        "\n",
        "accuracies = []\n",
        "\n",
        "for model, name in zip(models, model_names):\n",
        "    model.fit(X_train, y_train)\n",
        "    y_pred = model.predict(X_test)\n",
        "    accuracy = accuracy_score(y_test, y_pred)\n",
        "    accuracies.append(accuracy)\n",
        "    print(f\"{name} : {accuracy:.4f}\")\n"
      ]
    },
    {
      "cell_type": "code",
      "execution_count": 72,
      "metadata": {
        "colab": {
          "base_uri": "https://localhost:8080/",
          "height": 607
        },
        "id": "Ybwrh-P7t-zD",
        "outputId": "92455aa1-ca23-4827-a7a4-16630d767f65"
      },
      "outputs": [
        {
          "name": "stderr",
          "output_type": "stream",
          "text": [
            "c:\\Users\\arora\\miniconda3\\envs\\nlp\\Lib\\site-packages\\seaborn\\_oldcore.py:1119: FutureWarning: use_inf_as_na option is deprecated and will be removed in a future version. Convert inf values to NaN before operating instead.\n",
            "  with pd.option_context('mode.use_inf_as_na', True):\n",
            "c:\\Users\\arora\\miniconda3\\envs\\nlp\\Lib\\site-packages\\seaborn\\_oldcore.py:1119: FutureWarning: use_inf_as_na option is deprecated and will be removed in a future version. Convert inf values to NaN before operating instead.\n",
            "  with pd.option_context('mode.use_inf_as_na', True):\n"
          ]
        },
        {
          "data": {
            "image/png": "[encoded data removed]",
            "text/plain": [
              "<Figure size 1000x600 with 1 Axes>"
            ]
          },
          "metadata": {},
          "output_type": "display_data"
        }
      ],
      "source": [
        "import pandas as pd\n",
        "import seaborn as sns\n",
        "import matplotlib.pyplot as plt\n",
        "\n",
        "sampling_techniques = ['Simple Random Sampling', 'Stratified Sampling', 'Systematic Sampling', 'Bootstrap Sampling', 'Cluster Sampling']\n",
        "model_names = ['Random Forest', 'Logistic Regression', 'Decision Trees', 'Gradient Boosting', 'Support Vector Machines']\n",
        "\n",
        "accuracy_results = [[0.9870, 0.8701, 0.9610, 0.9870, 0.8831],\n",
        "                    [1.0000, 0.9254, 0.9851, 0.9851, 0.9701],\n",
        "                    [1.000, 0.8993, 1.000, 1.000, 0.9530],\n",
        "                    [1.000, 0.9250, 0.9625, 1.000, 0.9750],\n",
        "                    [1.000, 0.9398, 0.9819, 1.000, 0.9699]]\n",
        "\n",
        "results_df = pd.DataFrame(accuracy_results, columns=model_names, index=sampling_techniques)\n",
        "\n",
        "plt.figure(figsize=(10, 6))\n",
        "sns.set(style=\"whitegrid\")  # Adding grid lines for better readability\n",
        "sns.lineplot(data=results_df, markers=True, palette=\"Set1\")  # Using a different color palette\n",
        "plt.title('Comparison of Model Performance under Different Sampling Techniques')\n",
        "plt.xlabel('Sampling Techniques')\n",
        "plt.ylabel('Accuracy')\n",
        "plt.xticks(rotation=45, ha='right')\n",
        "plt.legend(bbox_to_anchor=(1.05, 1), loc='upper left')\n",
        "plt.tight_layout()\n",
        "plt.show()"
      ]
    },
    {
      "cell_type": "code",
      "execution_count": 71,
      "metadata": {
        "colab": {
          "base_uri": "https://localhost:8080/",
          "height": 644
        },
        "id": "yKi2TR7Y0BCr",
        "outputId": "650c302e-57bb-43b3-95d0-6f45205fb357"
      },
      "outputs": [
        {
          "name": "stderr",
          "output_type": "stream",
          "text": [
            "No artists with labels found to put in legend.  Note that artists whose label start with an underscore are ignored when legend() is called with no argument.\n"
          ]
        },
        {
          "data": {
            "image/png": "[encoded data removed]",
            "text/plain": [
              "<Figure size 1000x600 with 1 Axes>"
            ]
          },
          "metadata": {},
          "output_type": "display_data"
        }
      ],
      "source": [
        "plt.figure(figsize=(10, 6))\n",
        "sns.boxplot(data=results_df)\n",
        "plt.title('Comparison of Model Performance under Different Sampling Techniques')\n",
        "plt.xlabel('Sampling Techniques')\n",
        "plt.ylabel('Accuracy')\n",
        "plt.xticks(rotation=45, ha='right')\n",
        "plt.legend(bbox_to_anchor=(1.05, 1), loc='upper left')\n",
        "plt.tight_layout()\n",
        "plt.show()"
      ]
    },
    {
      "cell_type": "code",
      "execution_count": null,
      "metadata": {
        "id": "9teqkDII0ZL9"
      },
      "outputs": [],
      "source": []
    }
  ],
  "metadata": {
    "colab": {
      "provenance": []
    },
    "kernelspec": {
      "display_name": "Python 3",
      "name": "python3"
    },
    "language_info": {
      "codemirror_mode": {
        "name": "ipython",
        "version": 3
      },
      "file_extension": ".py",
      "mimetype": "text/x-python",
      "name": "python",
      "nbconvert_exporter": "python",
      "pygments_lexer": "ipython3",
      "version": "3.12.3"
    }
  },
  "nbformat": 4,
  "nbformat_minor": 0
}
